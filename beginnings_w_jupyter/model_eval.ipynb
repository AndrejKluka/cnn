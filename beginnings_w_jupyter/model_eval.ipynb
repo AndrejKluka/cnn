{
 "cells": [
  {
   "cell_type": "code",
   "execution_count": 1,
   "metadata": {},
   "outputs": [
    {
     "name": "stderr",
     "output_type": "stream",
     "text": [
      "Using TensorFlow backend.\n"
     ]
    }
   ],
   "source": [
    "import matplotlib.pyplot as plt\n",
    "from sklearn.cluster import KMeans\n",
    "from random import shuffle # mixing up or currently ordered data that might lead our network astray in training.\n",
    "import cv2             # working with, mainly resizing, images\n",
    "from tqdm import tqdm\n",
    "from lxml import etree\n",
    "import xml.etree.ElementTree as ET\n",
    "import random\n",
    "import os                  # dealing with directories\n",
    "import numpy as np\n",
    "import numpy.ma as ma\n",
    "import tensorflow as tf\n",
    "\n",
    "from keras import backend as K\n",
    "from keras.layers import Conv2D, Add, ZeroPadding2D, UpSampling2D, Concatenate, MaxPooling2D, Input, Lambda\n",
    "from keras.layers.advanced_activations import LeakyReLU\n",
    "from keras.layers.normalization import BatchNormalization\n",
    "from keras.models import Model\n",
    "from keras.regularizers import l2\n",
    "from keras import models\n",
    "from keras import layers\n",
    "from keras.layers import Input\n",
    "from keras.utils.generic_utils import get_custom_objects\n",
    "#TO DO\n",
    "#multiple outputs\n",
    "#code for speed testing\n",
    "#code for accuracy, pull out categories of unregonized ac\n",
    "#visualize filters\n"
   ]
  },
  {
   "cell_type": "code",
   "execution_count": 2,
   "metadata": {},
   "outputs": [],
   "source": [
    "TRAIN_annot_dir = 'D:/cnntry/air_data/annot_train'\n",
    "EVAL_annot_dir = 'D:/cnntry/air_data/annot_val'\n",
    "EVAL_pic_dir = 'D:/cnntry/air_data/valairplane''\\\\'\n",
    "img_folder = 'D:/cnntry/air_data/trainairplane'\n",
    "\n",
    "save_path='D:/cnntry'\n",
    "DATA_file= 'train_airdata.npy' \n",
    "\n",
    "modelpath='my_model.h5'\n",
    "\n",
    "\n",
    "x_data=np.load('xdata.npy')\n",
    "y_data=np.load('ydata.npy')"
   ]
  },
  {
   "cell_type": "code",
   "execution_count": 13,
   "metadata": {},
   "outputs": [],
   "source": [
    "def read_xml(img_name,annot_dir='D:/cnntry/air_data/annot_train'):\n",
    "    annot_label = img_name.split('.')[0]+'.xml'           #xml file name\n",
    "    annot_xml = os.path.join(annot_dir,annot_label)  #xml file full path\n",
    "    root = etree.parse(annot_xml).getroot()\n",
    "    #for child in root: print(child.tag, child.attrib)        \n",
    "    img_w= int(root[3][0].text)\n",
    "    img_h= int(root[3][1].text)\n",
    "    bb=[]                                   #list for bounding boxes\n",
    "    for plane in root.iter(\"object\"):\n",
    "        for l in range(4): bb.append(int(plane[4][l].text)) \n",
    "    return img_w, img_h, bb\n",
    "\n",
    "def rescale_bb(img_w, img_h, bb, ref=(416,416)):\n",
    "    w_ratio= ref[0] / img_w\n",
    "    h_ratio= ref[1] / img_h\n",
    "    for i in range(0,len(bb),2):\n",
    "        bb[i]= int(bb[i]* w_ratio)\n",
    "        bb[i+1]= int(bb[i+1]* h_ratio)\n",
    "    return bb\n",
    "\n",
    "def conv_bb_coord(bb):\n",
    "    for i in range(0,len(bb),4):\n",
    "        x_cen= int( (bb[i]+ bb[i+2])/2)\n",
    "        y_cen= int( (bb[i+1]+ bb[i+3])/2)\n",
    "        w= bb[i+2]- bb[i]\n",
    "        h= bb[i+3]- bb[i+1]\n",
    "        bb[i],bb[i+1],bb[i+2],bb[i+3]= x_cen, y_cen, w, h\n",
    "    return bb\n",
    "\n",
    "def custom_loss(y_true, y_pred, no_object_scale=0.5, bb_scale=5., object_scale=5.):\n",
    "    shape = y_true.shape #(13,13,5)\n",
    "    \n",
    "    #no object loss \n",
    "    no_objects_mask = ma.masked_equal(y_true, 0).mask\n",
    "    no_object_loss = K.sum((0 - (y_pred*no_objects_mask)[:,:,0])**2)\n",
    "    \n",
    "    #object loss \n",
    "    object_loss = K.sum((1 - (y_pred * ~no_objects_mask)[:,:,0])**2)\n",
    "    \n",
    "    # loss from bounding boxes\n",
    "    bb_loss= K.sum((y_true[:,:,1:] - (y_pred * ~no_objects_mask)[:,:,1:])**2)\n",
    "\n",
    "    loss= no_object_scale * no_object_loss  +  bb_scale * bb_loss  +  object_loss*object_scale\n",
    "    #K.print(loss)      \n",
    "    return loss\n",
    "\n",
    "def prep_pics(img_folder='D:/cnntry/air_data/trainairplane',ref=(416,416), stop=True, annot_dir='D:/cnntry/air_data/annot_train'):\n",
    "    training_data = []\n",
    "    if stop:\n",
    "        num=400\n",
    "        x_data=np.zeros((num,416, 416, 3))\n",
    "        y_data=np.zeros((num,13,13,5))\n",
    "        \n",
    "    else:\n",
    "        x_data=np.zeros((len(os.listdir(img_folder)),416, 416, 3))\n",
    "        y_data=np.zeros((len(os.listdir(img_folder)),13,13,5))\n",
    "        \n",
    "    n=0\n",
    "    for img in tqdm(os.listdir(img_folder)):\n",
    "        n=n+1\n",
    "        if stop and n>num:\n",
    "            break\n",
    "        truth= create_truth_arr(conv_bb_coord(rescale_bb(*read_xml(img,annot_dir=annot_dir))))\n",
    "        path = os.path.join(img_folder,img)\n",
    "        img = cv2.imread(path)\n",
    "        img = cv2.resize(img, ref)\n",
    "        x_data[n-1,...]=np.array(img)\n",
    "        y_data[n-1,...]=truth\n",
    "    np.save('x_data.npy', x_data)\n",
    "    np.save('y_data.npy', y_data)\n",
    "    return x_data, y_data\n",
    "\n",
    "def prep_pic(img, ref=(416,416), return_OGimg=True, img_folder='D:/cnntry/air_data/trainairplane'):  #img_folder='D:/cnntry/air_data/trainairplane'\n",
    "    training_data = []\n",
    "    x_data=np.zeros((1,ref[0], ref[1], 3))\n",
    "    #y_data=np.zeros((13,13,5))\n",
    "    #truth= create_truth_arr(conv_bb_coord(rescale_bb(*read_xml(img))))\n",
    "    #path = os.path.join(img_folder,'\\\\')\n",
    "    path = os.path.join(img_folder,img)\n",
    "    OGimg = cv2.imread(path)\n",
    "    img = cv2.resize(OGimg, ref)\n",
    "    #print()\n",
    "    x_data[0] = np.array(img)\n",
    "    if return_OGimg:\n",
    "        return x_data, OGimg  #np.array of scaled img,  OG cv2 image\n",
    "    else: return x_data\n",
    "\n",
    "\n",
    "def create_truth_arr(bb, output_shape=(13,13,5), ref=(416,416)):    #bb[x_cen, y_cen, w, h, x_cen, y_cen, w, h..]\n",
    "    truth=np.zeros((output_shape))\n",
    "    box_w= ref[0]/output_shape[0]\n",
    "    for i in range(0,len(bb),4):\n",
    "        for j in range(output_shape[0]):\n",
    "            if bb[i]>= j*box_w  and  bb[i]< (j+1)*box_w:\n",
    "                a=j\n",
    "            if bb[i+1]>= j*box_w  and  bb[i+1]< (j+1)*box_w:\n",
    "                b=j\n",
    "                \n",
    "        truth[a,b,0:]= 1,*bb[i:i+4]\n",
    "        truth[a,b,1]= truth[a,b,1]-(a*box_w)\n",
    "        truth[a,b,2]= truth[a,b,2]-(b*box_w)\n",
    "        truth[a,b,1:3]= truth[a,b,1:3]/box_w        \n",
    "        truth[a,b,3:]= truth[a,b,3:]/ref[1] # [a,b,:]=[1 if plane, 0-1 of where x_cen is in cell, same for y, w/ref width, same for h]\n",
    "    return truth\n",
    "\n",
    "def ypred_to_bbs(y_pred, OGshape, threshold, ref=(416,416)):\n",
    "    shape=y_pred.shape\n",
    "    scale_w = OGshape[0]/ref[0]\n",
    "    scale_h = OGshape[1]/ref[1]\n",
    "    detector_w = ref[0]/shape[0] \n",
    "    detector_h = ref[1]/shape[1]\n",
    "    bbs=[]  #[#detec_x, #detec_y,  0-1 of where x_cen is in cell,   same for y,   w/ref width,   h/ref height]]\n",
    "    for x in range(shape[0]):\n",
    "        for y in range(shape[1]):\n",
    "            if y_pred[x,y,0]>=threshold:\n",
    "                bbs.append([x,y,*y_pred[x,y,1:]])\n",
    "    b_b=[]\n",
    "    for i in bbs:\n",
    "        x_cen = i[2]*detector_w + i[0]*detector_w\n",
    "        y_cen = i[3]*detector_h + i[1]*detector_h\n",
    "        w = i[4]*ref[0]\n",
    "        h = i[5]*ref[1]\n",
    "        #print(x_cen, y_cen,w,h)        \n",
    "        b_b.append([(x_cen-w/2)*scale_w,  (y_cen-h/2)*scale_h,  (x_cen+w/2)*scale_w,  (y_cen+h/2)*scale_h])\n",
    "        #print(b_b[-1])\n",
    "        for i in range(len(b_b[-1])):\n",
    "            if b_b[-1][i]<0.: b_b[-1][i]=0 \n",
    "            else: b_b[-1][i] = int(b_b[-1][i])\n",
    "        #print(b_b)\n",
    "    return b_b  # [x-topleft, y-topleft, x-bottomright, y-bottomright ..repeat]\n",
    "\n",
    "def viz_output(model, img, t=3, threshold=0.3, plot=False, img_folder='D:/cnntry/air_data/valairplane'):\n",
    "    x_data, OGimg = prep_pic(img, img_folder=img_folder)\n",
    "    y_pred = model.predict(x_data)\n",
    "    #print(y_pred[0].shape)\n",
    "    img_w, img_h, og_bbs = read_xml(img, annot_dir=EVAL_annot_dir)  #[x-topleft, y-topleft, x-bottomright, y-bottomright ..repeat]\n",
    "    pred_bbs = ypred_to_bbs(y_pred[0], OGimg.shape, threshold) # [x-topleft, y-topleft, x-bottomright, y-bottomright ..repeat]\n",
    "    if plot:\n",
    "        OGimg = cv2.cvtColor(OGimg, cv2.COLOR_BGR2RGB)\n",
    "        for i in range(0, len(og_bbs), 4):\n",
    "            tl=(og_bbs[i+0],og_bbs[i+1])\n",
    "            br=(og_bbs[i+2],og_bbs[i+3])\n",
    "            OGimg = cv2.rectangle(OGimg,tl,br,(255,0,0),t) #RGB OG bounding boxes are red\n",
    "        for bb in pred_bbs:\n",
    "            tl=(bb[0],bb[1])\n",
    "            br=(bb[2],bb[3])\n",
    "            OGimg = cv2.rectangle(OGimg,tl,br,(0,255,0),t) #RGB predicted bounding boxes are green    \n",
    "        plt.imshow(OGimg)   \n",
    "        plt.show\n",
    "    else: return x_data, y_pred, og_bbs, pred_bbs, # og_bbs is a straight list and pred_bbs is a list of lists\n",
    "\n",
    "def eval_centers(model, threshold=0.99, pic_dir='D:/cnntry/air_data/valairplane'):\n",
    "    true_cen=[] #[[xtrue,ytrue]]\n",
    "    pred_cen=[] #[[x,y]]\n",
    "    for img in tqdm(os.listdir(EVAL_pic_dir)):\n",
    "        x_data, y_pred, og_bbs, pred_bbs = viz_output(model, img, threshold=threshold)\n",
    "        for i in range(0, len(og_bbs), 4):\n",
    "            true_cen.append([(og_bbs[i+0]+og_bbs[i+2])/2 , (og_bbs[i+1]+og_bbs[i+3])/2])\n",
    "        for bb in pred_bbs:\n",
    "            pred_cen.append([(bb[0]+bb[2])/2 , (bb[1]+bb[3])/2])    \n",
    "    true_cen = np.asarray(true_cen)\n",
    "    pred_cen = np.asarray(pred_cen)\n",
    "    plt.scatter(true_cen[:,0],true_cen[:,1], c='r')\n",
    "    plt.scatter(pred_cen[:,0],pred_cen[:,1], c='g')\n",
    "    plt.title('center distribution')\n",
    "    plt.show\n",
    "    \n",
    "    return true_cen\n",
    "    \n",
    "    "
   ]
  },
  {
   "cell_type": "code",
   "execution_count": 14,
   "metadata": {},
   "outputs": [
    {
     "name": "stderr",
     "output_type": "stream",
     "text": [
      "100%|██████████████████████████████████████████████████████████████████████████████████| 97/97 [00:02<00:00, 35.61it/s]\n"
     ]
    }
   ],
   "source": [
    "if True:\n",
    "    eval_x_data, eval_y_data = prep_pics(img_folder=EVAL_pic_dir, annot_dir=EVAL_annot_dir, stop=False)\n",
    "    np.save('eval_xdata',eval_x_data)\n",
    "    np.save('eval_ydata',eval_y_data)\n",
    "\n",
    "x_data=np.load('eval_xdata.npy')\n",
    "y_data=np.load('eval_ydata.npy')"
   ]
  },
  {
   "cell_type": "code",
   "execution_count": 15,
   "metadata": {},
   "outputs": [],
   "source": [
    "get_custom_objects().update({\"custom_loss\": custom_loss})\n",
    "model=models.load_model(modelpath)"
   ]
  },
  {
   "cell_type": "code",
   "execution_count": 197,
   "metadata": {},
   "outputs": [
    {
     "name": "stderr",
     "output_type": "stream",
     "text": [
      "100%|██████████████████████████████████████████████████████████████████████████████████| 97/97 [00:15<00:00,  6.10it/s]\n"
     ]
    },
    {
     "data": {
      "image/png": "[encoded data removed]",
      "text/plain": [
       "<Figure size 432x288 with 1 Axes>"
      ]
     },
     "metadata": {
      "needs_background": "light"
     },
     "output_type": "display_data"
    }
   ],
   "source": [
    "#img = os.listdir(EVAL_pic_dir)\n",
    "\n",
    "#x_data, OGimg = prep_pic(img[2])\n",
    "#y_pred = model.predict(x_data)\n",
    "#pred_bbs = ypred_to_bbs(y_pred[0], OGimg.shape, threshold=0.05)\n",
    "#print(pred_bbs)\n",
    "\n",
    "#viz_output(model, img[1001], threshold=0.9995, plot=True)\n",
    "cen=eval_centers(model, threshold=0.99)\n",
    "\n",
    "    \n",
    "    #cv2.imshow('image',img)\n",
    "#cv2.waitKey(0)\n",
    "#cv2.destroyAllWindows()"
   ]
  },
  {
   "cell_type": "code",
   "execution_count": 157,
   "metadata": {},
   "outputs": [],
   "source": [
    "ref=(416,416)\n",
    "shape=(13,13,5)\n"
   ]
  },
  {
   "cell_type": "code",
   "execution_count": 193,
   "metadata": {},
   "outputs": [
    {
     "name": "stdout",
     "output_type": "stream",
     "text": [
      "[307.5 187.  320.  176.  283.   27.  464.5 333.  618.  174.  267.  148.5\n",
      " 510.5 189.5 321.5 316.5 345.  350.  202.5 214.5 201.5 246.   57.  324.5\n",
      " 326.  470.  320.5 276.5 475.5 576.  253.  364.5 282.5 269.5 320.  302.5\n",
      " 318.  372.  201.5 545.5 325.  316.5 264.5 466.5 114.5 316.  157.  323.5\n",
      " 453.5 328.5 328.  287.5 296.5  99.5 321.  332.   82.  598.5 609.5 475.\n",
      " 141.  298.   46.5 242.  283.  322.  269.  325.5 320.  218.  268.  203.5\n",
      " 284.5  80.5  15.  235.  254.  240.  391.5 246.  530.5 400.  216.  393.\n",
      " 280.5 404.  206.5 527.5 321.5 309.  184.5 231.5 340.5 195.5 173.5 429.\n",
      " 510.5 598.5 171.  471.5 310.5 334.5 292.5 320.  366.  300.  328.5 162.5\n",
      " 129.  406.5 166.  214.  411.5 290.5 318.5 618.  306.5 319.5 249.  282.5\n",
      " 253.  237.5 510.5 323.   51.  317.  336.5 415.5 263.  161.5 494.5 338.5\n",
      " 234.  355.5 326.  316.  273.5 347.   45.5 366.  250.5 297.5 287. ]\n",
      "sbsb\\sfb\n",
      "sbsb\\\\sfb\n"
     ]
    }
   ],
   "source": [
    "OGimg = cv2.imread('D:/cnntry/air_data/valairplane\\\\000000001761.jpg')\n",
    "print(np.asarray(cen)[:,0])\n",
    "j='sbsb\\sfb'\n",
    "print(j)\n",
    "print(j.replace('\\\\','\\\\\\\\'))"
   ]
  },
  {
   "cell_type": "code",
   "execution_count": 16,
   "metadata": {},
   "outputs": [
    {
     "data": {
      "text/plain": [
       "{'custom_loss': <function __main__.custom_loss(y_true, y_pred, no_object_scale=0.5, bb_scale=5.0, object_scale=5.0)>}"
      ]
     },
     "execution_count": 16,
     "metadata": {},
     "output_type": "execute_result"
    }
   ],
   "source": [
    "get_custom_objects()"
   ]
  },
  {
   "cell_type": "code",
   "execution_count": null,
   "metadata": {},
   "outputs": [],
   "source": []
  },
  {
   "cell_type": "code",
   "execution_count": null,
   "metadata": {},
   "outputs": [],
   "source": []
  }
 ],
 "metadata": {
  "kernelspec": {
   "display_name": "Python [conda env:keras]",
   "language": "python",
   "name": "conda-env-keras-py"
  },
  "language_info": {
   "codemirror_mode": {
    "name": "ipython",
    "version": 3
   },
   "file_extension": ".py",
   "mimetype": "text/x-python",
   "name": "python",
   "nbconvert_exporter": "python",
   "pygments_lexer": "ipython3",
   "version": "3.6.8"
  }
 },
 "nbformat": 4,
 "nbformat_minor": 2
}
