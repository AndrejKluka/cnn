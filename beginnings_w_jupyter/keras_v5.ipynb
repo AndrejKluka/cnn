{
 "cells": [
  {
   "cell_type": "code",
   "execution_count": 1,
   "metadata": {},
   "outputs": [
    {
     "name": "stderr",
     "output_type": "stream",
     "text": [
      "Using TensorFlow backend.\n"
     ]
    }
   ],
   "source": [
    "import matplotlib.pyplot as plt\n",
    "from sklearn.cluster import KMeans\n",
    "from random import shuffle # mixing up or currently ordered data that might lead our network astray in training.\n",
    "import cv2             # working with, mainly resizing, images\n",
    "from tqdm import tqdm\n",
    "from lxml import etree\n",
    "import xml.etree.ElementTree as ET\n",
    "import random\n",
    "import os                  # dealing with directories\n",
    "import numpy as np\n",
    "import numpy.ma as ma\n",
    "import tensorflow as tf\n",
    "\n",
    "from keras import backend as K\n",
    "from keras.layers import Conv2D, Add, ZeroPadding2D, UpSampling2D, Concatenate, MaxPooling2D, Input, Lambda\n",
    "from keras.layers.advanced_activations import LeakyReLU\n",
    "from keras.layers.normalization import BatchNormalization\n",
    "from keras.models import Model\n",
    "from keras.regularizers import l2\n",
    "from keras import models\n",
    "from keras import layers\n",
    "from keras.layers import Input\n",
    "\n",
    "#TO DO\n",
    "#multiple outputs\n",
    "#code for speed testing\n",
    "#code for accuracy, pull out categories of unregonized ac plot x-y_cen, plot bb sizes, get IoU, mAP\n",
    "#visualize filters\n"
   ]
  },
  {
   "cell_type": "code",
   "execution_count": 2,
   "metadata": {},
   "outputs": [],
   "source": [
    "TRAIN_annot_dir = 'D:/cnntry/air_data/annot_train'\n",
    "img_folder = 'D:/cnntry/air_data/trainairplane'\n",
    "\n",
    "save_path='D:/cnntry'\n",
    "DATA_file= 'train_airdata.npy' \n",
    "num_anchors= 3\n",
    "\n",
    "input_shape = (416,416)\n",
    "h, w = input_shape\n",
    "\n"
   ]
  },
  {
   "cell_type": "code",
   "execution_count": 3,
   "metadata": {},
   "outputs": [],
   "source": [
    "def read_xml(img_name):\n",
    "    annot_label = img_name.split('.')[0]+'.xml'           #xml file name\n",
    "    annot_xml = os.path.join(TRAIN_annot_dir,annot_label)  #xml file full path\n",
    "    root = etree.parse(annot_xml).getroot()\n",
    "    #for child in root: print(child.tag, child.attrib)        \n",
    "    img_w= int(root[3][0].text)\n",
    "    img_h= int(root[3][1].text)\n",
    "    bb=[]                                   #list for bounding boxes\n",
    "    for plane in root.iter(\"object\"):\n",
    "        for l in range(4): bb.append(int(plane[4][l].text)) \n",
    "    return img_w, img_h, bb\n",
    "\n",
    "def rescale_bb(img_w, img_h, bb, ref=(416,416)):\n",
    "    w_ratio= ref[0] / img_w\n",
    "    h_ratio= ref[1] / img_h\n",
    "    for i in range(0,len(bb),2):\n",
    "        bb[i]= int(bb[i]* w_ratio)\n",
    "        bb[i+1]= int(bb[i+1]* h_ratio)\n",
    "    return bb\n",
    "\n",
    "def conv_bb_coord(bb):\n",
    "    for i in range(0,len(bb),4):\n",
    "        x_cen= int( (bb[i]+ bb[i+2])/2)\n",
    "        y_cen= int( (bb[i+1]+ bb[i+3])/2)\n",
    "        w= bb[i+2]- bb[i]\n",
    "        h= bb[i+3]- bb[i+1]\n",
    "        bb[i],bb[i+1],bb[i+2],bb[i+3]= x_cen, y_cen, w, h\n",
    "    return bb\n",
    "\n",
    "\n",
    "def create_truth_arr(bb, output_shape=(13,13,5), ref=(416,416)):    #bb[x_cen, y_cen, w, h, x_cen, y_cen, w, h..]\n",
    "    truth=np.zeros((output_shape))\n",
    "    box_w= ref[0]/output_shape[0]\n",
    "    for i in range(0,len(bb),4):\n",
    "        for j in range(output_shape[0]):\n",
    "            if bb[i]>= j*box_w  and  bb[i]< (j+1)*box_w:\n",
    "                a=j\n",
    "            if bb[i+1]>= j*box_w  and  bb[i+1]< (j+1)*box_w:\n",
    "                b=j\n",
    "                \n",
    "        truth[a,b,0:]= 1,*bb[i:i+4]\n",
    "        truth[a,b,1]= truth[a,b,1]-(a*box_w)\n",
    "        truth[a,b,2]= truth[a,b,2]-(b*box_w)\n",
    "        truth[a,b,1:3]= truth[a,b,1:3]/box_w        \n",
    "        truth[a,b,3:]= truth[a,b,3:]/ref[1] # [a,b,:]=[1 if plane, 0-1 of where x_cen is in cell, same for y, w/ref width, same for h]\n",
    "    return truth\n",
    "    \n",
    "\n",
    "def prep_pics(img_folder='D:/cnntry/air_data/trainairplane',ref=(416,416), stop=True):\n",
    "    training_data = []\n",
    "    if stop:\n",
    "        num=400\n",
    "        x_data=np.zeros((num,416, 416, 3))\n",
    "        y_data=np.zeros((num,13,13,5))\n",
    "        n=0\n",
    "    else:\n",
    "        x_data=np.zeros((len(os.listdir(img_folder)),416, 416, 3))\n",
    "        y_data=np.zeros((len(os.listdir(img_folder)),13,13,5))\n",
    "    for img in tqdm(os.listdir(img_folder)):\n",
    "        if stop:\n",
    "            n=n+1\n",
    "            if n>num:\n",
    "                break\n",
    "        truth= create_truth_arr(conv_bb_coord(rescale_bb(*read_xml(img))))\n",
    "        path = os.path.join(img_folder,img)\n",
    "        img = cv2.imread(path)\n",
    "        img = cv2.resize(img, ref)\n",
    "        x_data[n-1,...]=np.array(img)\n",
    "        y_data[n-1,...]=truth\n",
    "    np.save('x_data.npy', x_data)\n",
    "    np.save('y_data.npy', y_data)\n",
    "    return x_data, y_data\n",
    "\n",
    "def anchors_from_data(num_anchors, img_folder='D:/cnntry/air_data/trainairplane',ref=(416,416), anch_dir='D:\\cnntry'):\n",
    "    if os.path.exists('{}anchors.npy'.format(num_anchors)):\n",
    "        anchors=np.load('{}anchors.npy'.format(num_anchors))\n",
    "        bbs_arr=np.load('bounding_boxes.npy')\n",
    "    elif os.path.exists('bounding_boxes.npy'):\n",
    "        bbs_arr=np.load('bounding_boxes.npy')\n",
    "        kmeans = KMeans(n_clusters=num_anchors, random_state=0).fit(bbs_arr)\n",
    "        anchors = kmeans.cluster_centers_\n",
    "        np.save('{}anchors.npy'.format(num_anchors), anchors)\n",
    "    else:    \n",
    "        bbs=[]\n",
    "        for img in tqdm(os.listdir(img_folder)):\n",
    "            bb = rescale_bb(*read_xml(img))       \n",
    "            for i in range(0,len(bb),2):\n",
    "                bbs.append((bb[i],bb[i+1]))\n",
    "        bbs_arr = np.asarray(bbs)              #array of bounding boxes\n",
    "        kmeans = KMeans(n_clusters=num_anchors, random_state=0).fit(bbs_arr)\n",
    "        anchors = kmeans.cluster_centers_    \n",
    "        np.save('{}anchors.npy'.format(num_anchors), anchors)\n",
    "        np.save('bounding_boxes.npy', bbs_arr)\n",
    "        \n",
    "    return anchors, bbs_arr\n",
    "\n",
    "#Conversely, if a detector does have a ground-truth box, we want to punish it:\n",
    "\n",
    "#    when the coordinates are wrong\n",
    "#    when the confidence score is too low\n",
    "\n",
    "\n",
    "\n",
    "def custom_loss(y_true, y_pred, no_object_scale=0.5, bb_scale=5., object_scale=5.):\n",
    "    shape = y_true.shape #(13,13,5)\n",
    "    \n",
    "    #no object loss \n",
    "    no_objects_mask = ma.masked_equal(y_true, 0).mask\n",
    "    no_object_loss = K.sum((0 - (y_pred*no_objects_mask)[:,:,0])**2)\n",
    "    \n",
    "    #object loss \n",
    "    object_loss = K.sum((1 - (y_pred * ~no_objects_mask)[:,:,0])**2)\n",
    "    \n",
    "    # loss from bounding boxes\n",
    "    bb_loss= K.sum((y_true[:,:,1:] - (y_pred * ~no_objects_mask)[:,:,1:])**2)\n",
    "\n",
    "    loss= no_object_scale * no_object_loss  +  bb_scale * bb_loss  +  object_loss*object_scale\n",
    "    #K.print(loss)      \n",
    "    return loss\n",
    "\n",
    "def loss_ready(no_object_scale=0.5, bb_scale=5.):\n",
    "  def nice(y_true, y_pred):\n",
    "    return custom_loss(y_true, y_pred, no_object_scale=no_object_scale, bb_scale=bb_scale)\n",
    "  return nice\n",
    "\n",
    "loss=loss_ready()\n",
    "\n",
    "def sigmoid(x):\n",
    "    sigm = 1. / (1. + np.exp(-x))\n",
    "    return sigm\n",
    "\n",
    "\n",
    "anchors, X=(anchors_from_data(4))"
   ]
  },
  {
   "cell_type": "code",
   "execution_count": 4,
   "metadata": {},
   "outputs": [
    {
     "data": {
      "text/plain": [
       "Text(0, 0.5, 'Img height (pix)')"
      ]
     },
     "execution_count": 4,
     "metadata": {},
     "output_type": "execute_result"
    },
    {
     "data": {
      "image/png": "[encoded data removed]",
      "text/plain": [
       "<Figure size 432x288 with 1 Axes>"
      ]
     },
     "metadata": {
      "needs_background": "light"
     },
     "output_type": "display_data"
    }
   ],
   "source": [
    "# Visualizing anchor distribution\n",
    "anchors, X=(anchors_from_data(4))\n",
    "plt.scatter(X[:,0],X[:,1],c='red')\n",
    "plt.scatter(anchors[:,0],anchors[:,1],c='blue')\n",
    "plt.xlabel('Img widht (pix)')\n",
    "plt.ylabel('Img height (pix)')\n"
   ]
  },
  {
   "cell_type": "code",
   "execution_count": 4,
   "metadata": {},
   "outputs": [
    {
     "name": "stderr",
     "output_type": "stream",
     "text": [
      " 13%|██████████▍                                                                    | 396/2986 [00:30<01:03, 41.02it/s]"
     ]
    }
   ],
   "source": [
    "x_data, y_data=prep_pics()\n"
   ]
  },
  {
   "cell_type": "code",
   "execution_count": 40,
   "metadata": {},
   "outputs": [],
   "source": [
    "model = models.Sequential()\n",
    "model.add(layers.Conv2D(16, 3, strides=(1, 1), padding='same', kernel_regularizer= l2(5e-4),input_shape=(416, 416, 3)))\n",
    "model.add(layers.BatchNormalization())\n",
    "model.add(layers.LeakyReLU(alpha=0.1))\n",
    "\n",
    "filters=[32,64,128,256,512]#,1024]\n",
    "for fil in filters:\n",
    "    model.add(layers.MaxPooling2D(pool_size=(2,2), strides=(2,2), padding='same'))\n",
    "    model.add(layers.Conv2D(fil, 3, strides=(1, 1), padding='same', kernel_regularizer= l2(5e-4))) \n",
    "    model.add(layers.BatchNormalization())\n",
    "    model.add(layers.LeakyReLU(alpha=0.1))\n",
    "\n",
    "model.add(layers.Conv2D(512, 3, strides=(1, 1), padding='same', kernel_regularizer= l2(5e-4)))\n",
    "model.add(layers.BatchNormalization())\n",
    "model.add(layers.LeakyReLU(alpha=0.1))\n",
    "model.add(layers.Conv2D(5, 3, strides=(1, 1), padding='same', activation='linear', kernel_regularizer= l2(5e-4)))  \n",
    "model.add(layers.Activation('sigmoid'))\n",
    "\n",
    "model.compile('Adam', loss=custom_loss)#custom_loss)  'mean_squared_error'\n",
    "#model.summary()"
   ]
  },
  {
   "cell_type": "code",
   "execution_count": 41,
   "metadata": {},
   "outputs": [
    {
     "name": "stdout",
     "output_type": "stream",
     "text": [
      "Train on 320 samples, validate on 80 samples\n",
      "Epoch 1/2\n",
      "320/320 [==============================] - ETA: 3:47 - loss: 33726.058 - ETA: 3:06 - loss: 28243.868 - ETA: 2:38 - loss: 21821.069 - ETA: 2:17 - loss: 16597.062 - ETA: 1:55 - loss: 13411.142 - ETA: 1:34 - loss: 11297.392 - ETA: 1:13 - loss: 9767.018 - ETA: 53s - loss: 8621.3469 - ETA: 33s - loss: 7731.149 - ETA: 13s - loss: 7024.183 - 229s 715ms/step - loss: 6608.3445 - val_loss: 643.5676\n",
      "Epoch 2/2\n",
      "320/320 [==============================] - ETA: 3:16 - loss: 535.208 - ETA: 2:55 - loss: 554.576 - ETA: 2:36 - loss: 584.982 - ETA: 2:15 - loss: 602.116 - ETA: 1:54 - loss: 579.755 - ETA: 1:34 - loss: 574.936 - ETA: 1:14 - loss: 563.879 - ETA: 54s - loss: 562.534 - ETA: 33s - loss: 564.54 - ETA: 13s - loss: 559.33 - 222s 693ms/step - loss: 544.0397 - val_loss: 458.3556\n"
     ]
    }
   ],
   "source": [
    "model.fit(x=x_data, y=y_data, batch_size=30, epochs=2, verbose=1, validation_split=0.2, shuffle=True)\n",
    "model.save('my_model.h5')\n",
    "\n",
    "#model.load_weights('my_model_weights.h5', by_name=True)\n",
    "#model.load_weights('my_model_weights.h5', by_name=True)\n",
    "#del model  # deletes the existing model\n",
    "#keras.models.load_model('my_model.h5')"
   ]
  },
  {
   "cell_type": "code",
   "execution_count": 40,
   "metadata": {},
   "outputs": [],
   "source": [
    "#print(y_data[5])\n",
    "\n",
    "y_true = y_data[5]"
   ]
  },
  {
   "cell_type": "code",
   "execution_count": null,
   "metadata": {},
   "outputs": [],
   "source": [
    "\n"
   ]
  },
  {
   "cell_type": "code",
   "execution_count": 46,
   "metadata": {},
   "outputs": [
    {
     "name": "stdout",
     "output_type": "stream",
     "text": [
      "[[[0.         0.         0.         0.         0.        ]\n",
      "  [0.         0.         0.         0.         0.        ]\n",
      "  [0.         0.         0.         0.         0.        ]\n",
      "  [0.         0.         0.         0.         0.        ]\n",
      "  [0.         0.         0.         0.         0.        ]\n",
      "  [0.         0.         0.         0.         0.        ]\n",
      "  [0.         0.         0.         0.         0.        ]\n",
      "  [0.         0.         0.         0.         0.        ]\n",
      "  [0.         0.         0.         0.         0.        ]\n",
      "  [0.         0.         0.         0.         0.        ]\n",
      "  [0.         0.         0.         0.         0.        ]\n",
      "  [0.         0.         0.         0.         0.        ]\n",
      "  [0.         0.         0.         0.         0.        ]]\n",
      "\n",
      " [[0.         0.         0.         0.         0.        ]\n",
      "  [0.         0.         0.         0.         0.        ]\n",
      "  [0.         0.         0.         0.         0.        ]\n",
      "  [0.         0.         0.         0.         0.        ]\n",
      "  [0.         0.         0.         0.         0.        ]\n",
      "  [0.         0.         0.         0.         0.        ]\n",
      "  [0.         0.         0.         0.         0.        ]\n",
      "  [0.         0.         0.         0.         0.        ]\n",
      "  [0.         0.         0.         0.         0.        ]\n",
      "  [0.         0.         0.         0.         0.        ]\n",
      "  [0.         0.         0.         0.         0.        ]\n",
      "  [0.         0.         0.         0.         0.        ]\n",
      "  [0.         0.         0.         0.         0.        ]]\n",
      "\n",
      " [[0.         0.         0.         0.         0.        ]\n",
      "  [0.         0.         0.         0.         0.        ]\n",
      "  [0.         0.         0.         0.         0.        ]\n",
      "  [0.         0.         0.         0.         0.        ]\n",
      "  [0.         0.         0.         0.         0.        ]\n",
      "  [0.72077075 0.70985539 0.6388109  0.91893048 0.47912513]\n",
      "  [0.         0.         0.         0.         0.        ]\n",
      "  [0.         0.         0.         0.         0.        ]\n",
      "  [0.         0.         0.         0.         0.        ]\n",
      "  [0.         0.         0.         0.         0.        ]\n",
      "  [0.         0.         0.         0.         0.        ]\n",
      "  [0.         0.         0.         0.         0.        ]\n",
      "  [0.         0.         0.         0.         0.        ]]\n",
      "\n",
      " [[0.         0.         0.         0.         0.        ]\n",
      "  [0.         0.         0.         0.         0.        ]\n",
      "  [0.         0.         0.         0.         0.        ]\n",
      "  [0.         0.         0.         0.         0.        ]\n",
      "  [0.         0.         0.         0.         0.        ]\n",
      "  [0.         0.         0.         0.         0.        ]\n",
      "  [0.         0.         0.         0.         0.        ]\n",
      "  [0.         0.         0.         0.         0.        ]\n",
      "  [0.         0.         0.         0.         0.        ]\n",
      "  [0.         0.         0.         0.         0.        ]\n",
      "  [0.         0.         0.         0.         0.        ]\n",
      "  [0.         0.         0.         0.         0.        ]\n",
      "  [0.         0.         0.         0.         0.        ]]\n",
      "\n",
      " [[0.         0.         0.         0.         0.        ]\n",
      "  [0.         0.         0.         0.         0.        ]\n",
      "  [0.         0.         0.         0.         0.        ]\n",
      "  [0.         0.         0.         0.         0.        ]\n",
      "  [0.         0.         0.         0.         0.        ]\n",
      "  [0.         0.         0.         0.         0.        ]\n",
      "  [0.         0.         0.         0.         0.        ]\n",
      "  [0.         0.         0.         0.         0.        ]\n",
      "  [0.         0.         0.         0.         0.        ]\n",
      "  [0.         0.         0.         0.         0.        ]\n",
      "  [0.         0.         0.         0.         0.        ]\n",
      "  [0.         0.         0.         0.         0.        ]\n",
      "  [0.         0.         0.         0.         0.        ]]\n",
      "\n",
      " [[0.         0.         0.         0.         0.        ]\n",
      "  [0.         0.         0.         0.         0.        ]\n",
      "  [0.         0.         0.         0.         0.        ]\n",
      "  [0.         0.         0.         0.         0.        ]\n",
      "  [0.         0.         0.         0.         0.        ]\n",
      "  [0.         0.         0.         0.         0.        ]\n",
      "  [0.         0.         0.         0.         0.        ]\n",
      "  [0.         0.         0.         0.         0.        ]\n",
      "  [0.         0.         0.         0.         0.        ]\n",
      "  [0.         0.         0.         0.         0.        ]\n",
      "  [0.         0.         0.         0.         0.        ]\n",
      "  [0.         0.         0.         0.         0.        ]\n",
      "  [0.         0.         0.         0.         0.        ]]\n",
      "\n",
      " [[0.         0.         0.         0.         0.        ]\n",
      "  [0.         0.         0.         0.         0.        ]\n",
      "  [0.         0.         0.         0.         0.        ]\n",
      "  [0.         0.         0.         0.         0.        ]\n",
      "  [0.         0.         0.         0.         0.        ]\n",
      "  [0.10639803 0.22227518 0.16838688 0.71248679 0.35401241]\n",
      "  [0.         0.         0.         0.         0.        ]\n",
      "  [0.         0.         0.         0.         0.        ]\n",
      "  [0.         0.         0.         0.         0.        ]\n",
      "  [0.         0.         0.         0.         0.        ]\n",
      "  [0.         0.         0.         0.         0.        ]\n",
      "  [0.         0.         0.         0.         0.        ]\n",
      "  [0.         0.         0.         0.         0.        ]]\n",
      "\n",
      " [[0.         0.         0.         0.         0.        ]\n",
      "  [0.         0.         0.         0.         0.        ]\n",
      "  [0.         0.         0.         0.         0.        ]\n",
      "  [0.         0.         0.         0.         0.        ]\n",
      "  [0.         0.         0.         0.         0.        ]\n",
      "  [0.         0.         0.         0.         0.        ]\n",
      "  [0.         0.         0.         0.         0.        ]\n",
      "  [0.         0.         0.         0.         0.        ]\n",
      "  [0.         0.         0.         0.         0.        ]\n",
      "  [0.         0.         0.         0.         0.        ]\n",
      "  [0.         0.         0.         0.         0.        ]\n",
      "  [0.         0.         0.         0.         0.        ]\n",
      "  [0.         0.         0.         0.         0.        ]]\n",
      "\n",
      " [[0.         0.         0.         0.         0.        ]\n",
      "  [0.         0.         0.         0.         0.        ]\n",
      "  [0.         0.         0.         0.         0.        ]\n",
      "  [0.         0.         0.         0.         0.        ]\n",
      "  [0.         0.         0.         0.         0.        ]\n",
      "  [0.         0.         0.         0.         0.        ]\n",
      "  [0.         0.         0.         0.         0.        ]\n",
      "  [0.         0.         0.         0.         0.        ]\n",
      "  [0.         0.         0.         0.         0.        ]\n",
      "  [0.         0.         0.         0.         0.        ]\n",
      "  [0.         0.         0.         0.         0.        ]\n",
      "  [0.         0.         0.         0.         0.        ]\n",
      "  [0.         0.         0.         0.         0.        ]]\n",
      "\n",
      " [[0.         0.         0.         0.         0.        ]\n",
      "  [0.         0.         0.         0.         0.        ]\n",
      "  [0.         0.         0.         0.         0.        ]\n",
      "  [0.         0.         0.         0.         0.        ]\n",
      "  [0.         0.         0.         0.         0.        ]\n",
      "  [0.         0.         0.         0.         0.        ]\n",
      "  [0.         0.         0.         0.         0.        ]\n",
      "  [0.         0.         0.         0.         0.        ]\n",
      "  [0.         0.         0.         0.         0.        ]\n",
      "  [0.         0.         0.         0.         0.        ]\n",
      "  [0.         0.         0.         0.         0.        ]\n",
      "  [0.         0.         0.         0.         0.        ]\n",
      "  [0.         0.         0.         0.         0.        ]]\n",
      "\n",
      " [[0.         0.         0.         0.         0.        ]\n",
      "  [0.         0.         0.         0.         0.        ]\n",
      "  [0.         0.         0.         0.         0.        ]\n",
      "  [0.         0.         0.         0.         0.        ]\n",
      "  [0.         0.         0.         0.         0.        ]\n",
      "  [0.         0.         0.         0.         0.        ]\n",
      "  [0.         0.         0.         0.         0.        ]\n",
      "  [0.         0.         0.         0.         0.        ]\n",
      "  [0.         0.         0.         0.         0.        ]\n",
      "  [0.         0.         0.         0.         0.        ]\n",
      "  [0.         0.         0.         0.         0.        ]\n",
      "  [0.         0.         0.         0.         0.        ]\n",
      "  [0.         0.         0.         0.         0.        ]]\n",
      "\n",
      " [[0.         0.         0.         0.         0.        ]\n",
      "  [0.         0.         0.         0.         0.        ]\n",
      "  [0.         0.         0.         0.         0.        ]\n",
      "  [0.         0.         0.         0.         0.        ]\n",
      "  [0.         0.         0.         0.         0.        ]\n",
      "  [0.         0.         0.         0.         0.        ]\n",
      "  [0.         0.         0.         0.         0.        ]\n",
      "  [0.         0.         0.         0.         0.        ]\n",
      "  [0.         0.         0.         0.         0.        ]\n",
      "  [0.         0.         0.         0.         0.        ]\n",
      "  [0.         0.         0.         0.         0.        ]\n",
      "  [0.         0.         0.         0.         0.        ]\n",
      "  [0.         0.         0.         0.         0.        ]]\n",
      "\n",
      " [[0.         0.         0.         0.         0.        ]\n",
      "  [0.         0.         0.         0.         0.        ]\n",
      "  [0.         0.         0.         0.         0.        ]\n",
      "  [0.         0.         0.         0.         0.        ]\n",
      "  [0.         0.         0.         0.         0.        ]\n",
      "  [0.         0.         0.         0.         0.        ]\n",
      "  [0.         0.         0.         0.         0.        ]\n",
      "  [0.         0.         0.         0.         0.        ]\n",
      "  [0.         0.         0.         0.         0.        ]\n",
      "  [0.         0.         0.         0.         0.        ]\n",
      "  [0.         0.         0.         0.         0.        ]\n",
      "  [0.         0.         0.         0.         0.        ]\n"
     ]
    },
    {
     "name": "stdout",
     "output_type": "stream",
     "text": [
      "  [0.         0.         0.         0.         0.        ]]]\n"
     ]
    }
   ],
   "source": [
    "y_pred = np.random.rand(*shape)\n",
    "\n",
    "shape = y_true.shape\n",
    "no_objects_mask = ma.masked_equal(y_true, 0).mask\n",
    "no_object_loss = np.sum((0 - sigmoid(y_pred*no_objects_mask)[:,:,0])**2)\n",
    "\n",
    "bb_loss= np.sum((0 - sigmoid(y_pred * ~no_objects_mask)[:,:,1:])**2)\n",
    "\n",
    "\n",
    "loss= no_object_scale * no_object_loss +\\\n",
    "\n",
    "print(bb_loss)\n"
   ]
  },
  {
   "cell_type": "code",
   "execution_count": 34,
   "metadata": {},
   "outputs": [
    {
     "data": {
      "text/plain": [
       "32.0"
      ]
     },
     "execution_count": 34,
     "metadata": {},
     "output_type": "execute_result"
    }
   ],
   "source": [
    "416/13"
   ]
  },
  {
   "cell_type": "code",
   "execution_count": 8,
   "metadata": {},
   "outputs": [],
   "source": [
    "np.save('xdata',x_data)\n",
    "np.save('ydata',y_data)\n"
   ]
  },
  {
   "cell_type": "code",
   "execution_count": 29,
   "metadata": {},
   "outputs": [],
   "source": [
    "x_data=np.load('xdata.npy')\n",
    "y_data=np.load('ydata.npy')\n"
   ]
  },
  {
   "cell_type": "code",
   "execution_count": 13,
   "metadata": {},
   "outputs": [
    {
     "ename": "IndexError",
     "evalue": "only integers, slices (`:`), ellipsis (`...`), numpy.newaxis (`None`) and integer or boolean arrays are valid indices",
     "output_type": "error",
     "traceback": [
      "\u001b[1;31m---------------------------------------------------------------------------\u001b[0m",
      "\u001b[1;31mIndexError\u001b[0m                                Traceback (most recent call last)",
      "\u001b[1;32m<ipython-input-13-393290b7e0d5>\u001b[0m in \u001b[0;36m<module>\u001b[1;34m\u001b[0m\n\u001b[0;32m      5\u001b[0m \u001b[0ma\u001b[0m\u001b[1;33m=\u001b[0m\u001b[1;33m(\u001b[0m\u001b[0my\u001b[0m\u001b[1;33m[\u001b[0m\u001b[0mi\u001b[0m\u001b[1;33m,\u001b[0m\u001b[1;33m:\u001b[0m\u001b[1;33m,\u001b[0m\u001b[1;36m0\u001b[0m\u001b[1;33m]\u001b[0m\u001b[1;33m==\u001b[0m\u001b[1;36m1\u001b[0m \u001b[1;32mfor\u001b[0m \u001b[0mi\u001b[0m \u001b[1;32min\u001b[0m \u001b[0mrange\u001b[0m\u001b[1;33m(\u001b[0m\u001b[1;36m5\u001b[0m\u001b[1;33m)\u001b[0m\u001b[1;33m)\u001b[0m\u001b[1;33m\u001b[0m\u001b[1;33m\u001b[0m\u001b[0m\n\u001b[0;32m      6\u001b[0m \u001b[1;33m\u001b[0m\u001b[0m\n\u001b[1;32m----> 7\u001b[1;33m \u001b[0mprint\u001b[0m\u001b[1;33m(\u001b[0m\u001b[0my\u001b[0m\u001b[1;33m[\u001b[0m\u001b[0ma\u001b[0m\u001b[1;33m]\u001b[0m\u001b[1;33m)\u001b[0m\u001b[1;33m\u001b[0m\u001b[1;33m\u001b[0m\u001b[0m\n\u001b[0m",
      "\u001b[1;31mIndexError\u001b[0m: only integers, slices (`:`), ellipsis (`...`), numpy.newaxis (`None`) and integer or boolean arrays are valid indices"
     ]
    }
   ],
   "source": [
    "y_data[1].shape\n",
    "#print(no_object_scale,no_object_loss,bb_scale,bb_loss)\n",
    "y=y_data[1]\n",
    "y[y[:,:,0]==1]\n",
    "y[i,:,0]==1\n"
   ]
  },
  {
   "cell_type": "code",
   "execution_count": null,
   "metadata": {},
   "outputs": [],
   "source": []
  },
  {
   "cell_type": "code",
   "execution_count": 3,
   "metadata": {},
   "outputs": [
    {
     "ename": "NameError",
     "evalue": "name 'loss' is not defined",
     "output_type": "error",
     "traceback": [
      "\u001b[1;31m---------------------------------------------------------------------------\u001b[0m",
      "\u001b[1;31mNameError\u001b[0m                                 Traceback (most recent call last)",
      "\u001b[1;32m<ipython-input-3-cbbb02e1e6e6>\u001b[0m in \u001b[0;36m<module>\u001b[1;34m\u001b[0m\n\u001b[1;32m----> 1\u001b[1;33m \u001b[0mloss\u001b[0m\u001b[1;33m(\u001b[0m\u001b[0my_data\u001b[0m\u001b[1;33m[\u001b[0m\u001b[1;36m0\u001b[0m\u001b[1;33m]\u001b[0m\u001b[1;33m,\u001b[0m\u001b[0my_data\u001b[0m\u001b[1;33m[\u001b[0m\u001b[1;36m1\u001b[0m\u001b[1;33m]\u001b[0m\u001b[1;33m)\u001b[0m\u001b[1;33m\u001b[0m\u001b[1;33m\u001b[0m\u001b[0m\n\u001b[0m",
      "\u001b[1;31mNameError\u001b[0m: name 'loss' is not defined"
     ]
    }
   ],
   "source": [
    "loss(y_data[0],y_data[1])"
   ]
  },
  {
   "cell_type": "code",
   "execution_count": 5,
   "metadata": {},
   "outputs": [
    {
     "ename": "NameError",
     "evalue": "name 'get_custom_objects' is not defined",
     "output_type": "error",
     "traceback": [
      "\u001b[1;31m---------------------------------------------------------------------------\u001b[0m",
      "\u001b[1;31mNameError\u001b[0m                                 Traceback (most recent call last)",
      "\u001b[1;32m<ipython-input-5-2bb09a1ea4b7>\u001b[0m in \u001b[0;36m<module>\u001b[1;34m\u001b[0m\n\u001b[1;32m----> 1\u001b[1;33m \u001b[0mget_custom_objects\u001b[0m\u001b[1;33m(\u001b[0m\u001b[1;33m)\u001b[0m\u001b[1;33m\u001b[0m\u001b[1;33m\u001b[0m\u001b[0m\n\u001b[0m",
      "\u001b[1;31mNameError\u001b[0m: name 'get_custom_objects' is not defined"
     ]
    }
   ],
   "source": [
    "get_custom_objects()"
   ]
  },
  {
   "cell_type": "code",
   "execution_count": null,
   "metadata": {},
   "outputs": [],
   "source": []
  }
 ],
 "metadata": {
  "kernelspec": {
   "display_name": "Python [conda env:keras]",
   "language": "python",
   "name": "conda-env-keras-py"
  },
  "language_info": {
   "codemirror_mode": {
    "name": "ipython",
    "version": 3
   },
   "file_extension": ".py",
   "mimetype": "text/x-python",
   "name": "python",
   "nbconvert_exporter": "python",
   "pygments_lexer": "ipython3",
   "version": "3.6.8"
  }
 },
 "nbformat": 4,
 "nbformat_minor": 2
}
