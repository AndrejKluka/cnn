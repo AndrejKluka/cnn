{
 "cells": [
  {
   "cell_type": "code",
   "execution_count": 1,
   "metadata": {},
   "outputs": [
    {
     "name": "stderr",
     "output_type": "stream",
     "text": [
      "Using TensorFlow backend.\n"
     ]
    }
   ],
   "source": [
    "from functools import wraps\n",
    "from functools import reduce\n",
    "\n",
    "from random import shuffle # mixing up or currently ordered data that might lead our network astray in training.\n",
    "import cv2             # working with, mainly resizing, images\n",
    "from tqdm import tqdm\n",
    "from lxml import etree\n",
    "import xml.etree.ElementTree as ET\n",
    "import random\n",
    "import os                  # dealing with directories\n",
    "import numpy as np\n",
    "import tensorflow as tf\n",
    "from keras import backend as K\n",
    "from keras.layers import Conv2D, Add, ZeroPadding2D, UpSampling2D, Concatenate, MaxPooling2D, Input, Lambda\n",
    "from keras.layers.advanced_activations import LeakyReLU\n",
    "from keras.layers.normalization import BatchNormalization\n",
    "from keras.models import Model\n",
    "from keras.regularizers import l2\n",
    "from keras import models\n",
    "from keras import layers\n",
    "from keras.layers import Input\n",
    "\n",
    "#TO DO\n",
    "#z loss function vyjebat classes\n",
    "#scalenut poslednu layer na moj output\n",
    "#k means clustering = getting nice anchors https://machinethink.net/blog/object-detection/\n",
    "#reading input"
   ]
  },
  {
   "cell_type": "code",
   "execution_count": 2,
   "metadata": {},
   "outputs": [],
   "source": [
    "TRAIN_dir = 'D:/cnntry/air_data/trainairplane'\n",
    "TRAIN_annot_dir = 'D:/cnntry/air_data/annot_train'\n",
    "img_folder='D:/cnntry/air_data/trainairplane'\n",
    "\n",
    "#TEST_DIR = 'D:\\cnntry\\\\test'\n",
    "TEST_DIR ='andrej/datasets/cats-and-dogs/1/home/test'\n",
    "\n",
    "DATA_file= 'train_airdata.npy' \n",
    "\n",
    "\n",
    "def get_label(img):\n",
    "    annot_label = img.split('.')[0]+'.xml'           #xml file name\n",
    "    annot_xml = os.path.join(TRAIN_annot_dir,annot_label)  #xml file full path\n",
    "    \n",
    "    root = etree.parse(annot_xml).getroot()\n",
    "    #for child in root: print(child.tag, child.attrib)\n",
    "    count = sum(1 for _ in root.iter(\"object\")) #count of objects in xml file\n",
    "    a = random.getrandbits(1)\n",
    "    if count == 1 : return [1,0]  # if only 1 airplane\n",
    "    else: return [0,1]            # of more than one airplane"
   ]
  },
  {
   "cell_type": "code",
   "execution_count": 52,
   "metadata": {},
   "outputs": [
    {
     "name": "stdout",
     "output_type": "stream",
     "text": [
      "_________________________________________________________________\n",
      "Layer (type)                 Output Shape              Param #   \n",
      "=================================================================\n",
      "conv2d_41 (Conv2D)           (None, 416, 416, 16)      448       \n",
      "_________________________________________________________________\n",
      "batch_normalization_36 (Batc (None, 416, 416, 16)      64        \n",
      "_________________________________________________________________\n",
      "leaky_re_lu_36 (LeakyReLU)   (None, 416, 416, 16)      0         \n",
      "_________________________________________________________________\n",
      "max_pooling2d_26 (MaxPooling (None, 208, 208, 16)      0         \n",
      "_________________________________________________________________\n",
      "conv2d_42 (Conv2D)           (None, 208, 208, 32)      4640      \n",
      "_________________________________________________________________\n",
      "batch_normalization_37 (Batc (None, 208, 208, 32)      128       \n",
      "_________________________________________________________________\n",
      "leaky_re_lu_37 (LeakyReLU)   (None, 208, 208, 32)      0         \n",
      "_________________________________________________________________\n",
      "max_pooling2d_27 (MaxPooling (None, 104, 104, 32)      0         \n",
      "_________________________________________________________________\n",
      "conv2d_43 (Conv2D)           (None, 104, 104, 64)      18496     \n",
      "_________________________________________________________________\n",
      "batch_normalization_38 (Batc (None, 104, 104, 64)      256       \n",
      "_________________________________________________________________\n",
      "leaky_re_lu_38 (LeakyReLU)   (None, 104, 104, 64)      0         \n",
      "_________________________________________________________________\n",
      "max_pooling2d_28 (MaxPooling (None, 52, 52, 64)        0         \n",
      "_________________________________________________________________\n",
      "conv2d_44 (Conv2D)           (None, 52, 52, 128)       73856     \n",
      "_________________________________________________________________\n",
      "batch_normalization_39 (Batc (None, 52, 52, 128)       512       \n",
      "_________________________________________________________________\n",
      "leaky_re_lu_39 (LeakyReLU)   (None, 52, 52, 128)       0         \n",
      "_________________________________________________________________\n",
      "max_pooling2d_29 (MaxPooling (None, 26, 26, 128)       0         \n",
      "_________________________________________________________________\n",
      "conv2d_45 (Conv2D)           (None, 26, 26, 256)       295168    \n",
      "_________________________________________________________________\n",
      "batch_normalization_40 (Batc (None, 26, 26, 256)       1024      \n",
      "_________________________________________________________________\n",
      "leaky_re_lu_40 (LeakyReLU)   (None, 26, 26, 256)       0         \n",
      "_________________________________________________________________\n",
      "max_pooling2d_30 (MaxPooling (None, 13, 13, 256)       0         \n",
      "_________________________________________________________________\n",
      "conv2d_46 (Conv2D)           (None, 13, 13, 512)       1180160   \n",
      "_________________________________________________________________\n",
      "batch_normalization_41 (Batc (None, 13, 13, 512)       2048      \n",
      "_________________________________________________________________\n",
      "leaky_re_lu_41 (LeakyReLU)   (None, 13, 13, 512)       0         \n",
      "_________________________________________________________________\n",
      "conv2d_47 (Conv2D)           (None, 13, 13, 512)       2359808   \n",
      "_________________________________________________________________\n",
      "batch_normalization_42 (Batc (None, 13, 13, 512)       2048      \n",
      "_________________________________________________________________\n",
      "leaky_re_lu_42 (LeakyReLU)   (None, 13, 13, 512)       0         \n",
      "_________________________________________________________________\n",
      "conv2d_48 (Conv2D)           (None, 13, 13, 5)         23045     \n",
      "=================================================================\n",
      "Total params: 3,961,701\n",
      "Trainable params: 3,958,661\n",
      "Non-trainable params: 3,040\n",
      "_________________________________________________________________\n"
     ]
    }
   ],
   "source": [
    "anchors='10,13,  16,30,  33,23,  30,61,  62,45,  59,119,  116,90,  156,198,  373,326'\n",
    "anchors = np.array([float(x) for x in anchors.split(',')]).reshape(-1, 2)\n",
    "\n",
    "model = models.Sequential()\n",
    "input_shape = (416,416)\n",
    "h, w = input_shape\n",
    "num_anchors = len(anchors)\n",
    "num_classes = 1\n",
    "y_true = [Input(shape=(h//{0:32, 1:16}[l], w//{0:32, 1:16}[l], \\\n",
    "        num_anchors//2, num_classes+5)) for l in range(1)]\n",
    "\n",
    "model.add(layers.Conv2D(16, 3, strides=(1, 1), padding='same', kernel_regularizer= l2(5e-4),input_shape=(416, 416, 3)))\n",
    "model.add(layers.BatchNormalization())\n",
    "model.add(layers.LeakyReLU(alpha=0.1))\n",
    "\n",
    "\n",
    "filters=[32,64,128,256,512]#,1024]\n",
    "for fil in filters:\n",
    "    model.add(layers.MaxPooling2D(pool_size=(2,2), strides=(2,2), padding='same'))\n",
    "    model.add(layers.Conv2D(fil, 3, strides=(1, 1), padding='same', kernel_regularizer= l2(5e-4))) \n",
    "    model.add(layers.BatchNormalization())\n",
    "    model.add(layers.LeakyReLU(alpha=0.1))\n",
    "\n",
    "\n",
    "model.add(layers.Conv2D(512, 3, strides=(1, 1), padding='same', kernel_regularizer= l2(5e-4)))\n",
    "model.add(layers.BatchNormalization())\n",
    "model.add(layers.LeakyReLU(alpha=0.1))\n",
    "model.add(layers.Conv2D(5, 3, strides=(1, 1), padding='same', activation='linear', kernel_regularizer= l2(5e-4)))  \n",
    "\n",
    "model.compile('SGD', loss='mean_squared_error')#,target_tensor=(200, 13, 13, 5))\n",
    "model.summary()"
   ]
  },
  {
   "cell_type": "code",
   "execution_count": null,
   "metadata": {},
   "outputs": [],
   "source": [
    "#model.fit(train_images, train_labels, epochs=5, batch_size=64)\n",
    "\n",
    "#test_loss, test_accuracy = model.evaluate(validation_images, validation_labels)\n",
    "\n",
    "#print(test_accuracy)"
   ]
  },
  {
   "cell_type": "code",
   "execution_count": 53,
   "metadata": {},
   "outputs": [
    {
     "name": "stdout",
     "output_type": "stream",
     "text": [
      "(640, 512, [50, 126, 636, 282, 0, 161, 208, 239])\n",
      "[32, 102, 413, 229, 0, 130, 135, 194]\n",
      "[222, 165, 381, 127, 67, 162, 135, 64]\n"
     ]
    },
    {
     "name": "stderr",
     "output_type": "stream",
     "text": [
      "  7%|█████▏                                                                         | 198/2986 [00:04<00:50, 55.45it/s]\n"
     ]
    }
   ],
   "source": [
    "def read_xml(img_name):\n",
    "    annot_label = img_name.split('.')[0]+'.xml'           #xml file name\n",
    "    annot_xml = os.path.join(TRAIN_annot_dir,annot_label)  #xml file full path\n",
    "    root = etree.parse(annot_xml).getroot()\n",
    "    #for child in root: print(child.tag, child.attrib)        \n",
    "    img_w= int(root[3][0].text)\n",
    "    img_h= int(root[3][1].text)\n",
    "    bb=[]  #list for bounding boxes\n",
    "    for plane in root.iter(\"object\"):\n",
    "        for l in range(4): bb.append(int(plane[4][l].text)) \n",
    "    return img_w, img_h, bb\n",
    "\n",
    "def rescale_bb(img_w, img_h, bb, ref=(416,416)):\n",
    "    w_ratio= ref[0] / img_w\n",
    "    h_ratio= ref[1] / img_h\n",
    "    for i in range(0,len(bb),2):\n",
    "        bb[i]= int(bb[i]* w_ratio)\n",
    "        bb[i+1]= int(bb[i+1]* h_ratio)\n",
    "    return bb\n",
    "\n",
    "def conv_bb_coord(bb):\n",
    "    for i in range(0,len(bb),4):\n",
    "        x_cen= int( (bb[i]+ bb[i+2])/2)\n",
    "        y_cen= int( (bb[i+1]+ bb[i+3])/2)\n",
    "        w= bb[i+2]- bb[i]\n",
    "        h= bb[i+3]- bb[i+1]\n",
    "        bb[i],bb[i+1],bb[i+2],bb[i+3]= x_cen, y_cen, w, h\n",
    "    return bb\n",
    "\n",
    "\n",
    "def create_truth_arr(bb, output_shape=(13,13,5), ref=(416,416)):    #bb[x_cen, y_cen, w, h, x_cen, y_cen, w, h..]\n",
    "    truth=np.zeros((output_shape))\n",
    "    box_w= ref[0]/output_shape[0]\n",
    "    for i in range(0,len(bb),4):\n",
    "        for j in range(output_shape[0]):\n",
    "            if bb[i]>= j*box_w  and  bb[i]< (j+1)*box_w:\n",
    "                a=j\n",
    "            if bb[i+1]>= j*box_w  and  bb[i+1]< (j+1)*box_w:\n",
    "                b=j\n",
    "                \n",
    "        truth[a,b,0:]= 1,*bb[i:i+4]\n",
    "        truth[a,b,1:]= truth[a,b,1:]/ref[1]\n",
    "    return truth\n",
    "    \n",
    "\n",
    "def prep_pics(img_folder='D:/cnntry/air_data/trainairplane',ref=(416,416)):\n",
    "    training_data = []\n",
    "    x_data=np.zeros((200,416, 416, 3))\n",
    "    y_data=np.zeros((200,13,13,5))\n",
    "    n=0\n",
    "    for img in tqdm(os.listdir(img_folder)):\n",
    "        n=n+1\n",
    "        if n>200:\n",
    "            break\n",
    "        truth= create_truth_arr(conv_bb_coord(rescale_bb(*read_xml(img))))\n",
    "        path = os.path.join(img_folder,img)\n",
    "        img = cv2.imread(path)\n",
    "        img = cv2.resize(img, ref)\n",
    "        x_data[n-1,...]=np.array(img)\n",
    "        y_data[n-1,...]=truth\n",
    "        #training_data.append([np.array(img),truth])\n",
    "    #shuffle(training_data)\n",
    "    np.save('x_data.npy', x_data)#training_data) \n",
    "    np.save('y_data.npy', y_data)\n",
    "    return x_data, y_data #,training_data\n",
    "    \n",
    "    \n",
    "    \n",
    "print(read_xml('000000000913.jpg'))\n",
    "print(rescale_bb(*read_xml('000000000913.jpg')))\n",
    "print(conv_bb_coord(rescale_bb(*read_xml('000000000913.jpg'))))\n",
    "#print(create_truth_arr(conv_bb_coord(rescale_bb(*read_xml('000000000913.jpg')))))\n",
    "\n",
    "x_data, y_data=prep_pics()"
   ]
  },
  {
   "cell_type": "code",
   "execution_count": 54,
   "metadata": {},
   "outputs": [
    {
     "name": "stdout",
     "output_type": "stream",
     "text": [
      "Train on 160 samples, validate on 40 samples\n",
      "Epoch 1/1\n",
      "160/160 [==============================] - ETA: 1:31 - loss: 1.574 - ETA: 43s - loss: 2.105 - ETA: 7s - loss: 4.1780 - 123s 770ms/step - loss: 4.5741 - val_loss: 4.1500\n"
     ]
    },
    {
     "data": {
      "text/plain": [
       "<keras.callbacks.History at 0x21b05ee99b0>"
      ]
     },
     "execution_count": 54,
     "metadata": {},
     "output_type": "execute_result"
    }
   ],
   "source": [
    "model.fit(x=x_data, y=y_data, batch_size=50, epochs=1, verbose=1, validation_split=0.2, shuffle=True)"
   ]
  },
  {
   "cell_type": "code",
   "execution_count": null,
   "metadata": {},
   "outputs": [],
   "source": []
  },
  {
   "cell_type": "code",
   "execution_count": null,
   "metadata": {},
   "outputs": [],
   "source": []
  },
  {
   "cell_type": "code",
   "execution_count": 46,
   "metadata": {},
   "outputs": [
    {
     "data": {
      "text/plain": [
       "(200, 13, 13, 5)"
      ]
     },
     "execution_count": 46,
     "metadata": {},
     "output_type": "execute_result"
    }
   ],
   "source": [
    "y_data.shape\n"
   ]
  },
  {
   "cell_type": "code",
   "execution_count": null,
   "metadata": {},
   "outputs": [],
   "source": []
  },
  {
   "cell_type": "code",
   "execution_count": null,
   "metadata": {},
   "outputs": [],
   "source": []
  }
 ],
 "metadata": {
  "kernelspec": {
   "display_name": "Python [conda env:keras]",
   "language": "python",
   "name": "conda-env-keras-py"
  },
  "language_info": {
   "codemirror_mode": {
    "name": "ipython",
    "version": 3
   },
   "file_extension": ".py",
   "mimetype": "text/x-python",
   "name": "python",
   "nbconvert_exporter": "python",
   "pygments_lexer": "ipython3",
   "version": "3.6.8"
  }
 },
 "nbformat": 4,
 "nbformat_minor": 2
}
